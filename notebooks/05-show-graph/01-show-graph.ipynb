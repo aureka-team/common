{
 "cells": [
  {
   "cell_type": "code",
   "execution_count": null,
   "id": "1286e1ff",
   "metadata": {},
   "outputs": [],
   "source": [
    "import networkx as nx\n",
    "\n",
    "from common.display.graph import show_graph\n",
    "from common.display.graph.styles import test_style"
   ]
  },
  {
   "cell_type": "code",
   "execution_count": null,
   "id": "05de3d3e",
   "metadata": {},
   "outputs": [],
   "source": [
    "# NOTE: Graph operations: https://github.com/aureka-team/archist2/blob/dev/archist/graph/operations.py"
   ]
  },
  {
   "cell_type": "code",
   "execution_count": null,
   "id": "82b56db8",
   "metadata": {},
   "outputs": [],
   "source": [
    "nodes = [\n",
    "    (\n",
    "        0,\n",
    "        {\n",
    "            \"name\": \"Jan\",\n",
    "            \"age\": 43,\n",
    "        },\n",
    "    ),\n",
    "    (\n",
    "        1,\n",
    "        {\n",
    "            \"name\": \"Bas\",\n",
    "            \"age\": 36,\n",
    "        },\n",
    "    ),\n",
    "    (\n",
    "        2,\n",
    "        {\n",
    "            \"name\": \"Ceci\",\n",
    "            \"age\": 36,\n",
    "        },\n",
    "    ),\n",
    "    (\n",
    "        3,\n",
    "        {\n",
    "            \"name\": \"Valu\",\n",
    "            \"age\": 34,\n",
    "        },\n",
    "    ),\n",
    "]\n",
    "\n",
    "edges = [\n",
    "    (\n",
    "        0,\n",
    "        1,\n",
    "        {\n",
    "            \"projects\": 1,\n",
    "        },\n",
    "    ),\n",
    "    (\n",
    "        1,\n",
    "        2,\n",
    "        {\n",
    "            \"projects\": 3,\n",
    "        },\n",
    "    ),\n",
    "    (\n",
    "        0,\n",
    "        3,\n",
    "        {\n",
    "            \"projects\": 2,\n",
    "        },\n",
    "    ),\n",
    "    (\n",
    "        0,\n",
    "        2,\n",
    "        {\n",
    "            \"projects\": 3,\n",
    "        },\n",
    "    ),\n",
    "]\n",
    "\n",
    "graph = nx.DiGraph()\n",
    "# graph = nx.Graph()\n",
    "\n",
    "graph.add_nodes_from(nodes)\n",
    "graph.add_edges_from(edges)\n",
    "\n",
    "print(f\"nodes: {len(graph.nodes())}\")\n",
    "print(f\"edges: {len(graph.edges())}\")"
   ]
  },
  {
   "cell_type": "code",
   "execution_count": null,
   "id": "870d80d9",
   "metadata": {},
   "outputs": [],
   "source": [
    "show_graph(\n",
    "    graph=graph,\n",
    "    style=test_style,\n",
    ")"
   ]
  },
  {
   "cell_type": "code",
   "execution_count": null,
   "id": "a6ebeba7",
   "metadata": {},
   "outputs": [],
   "source": []
  }
 ],
 "metadata": {
  "kernelspec": {
   "display_name": "Python 3",
   "language": "python",
   "name": "python3"
  },
  "language_info": {
   "codemirror_mode": {
    "name": "ipython",
    "version": 3
   },
   "file_extension": ".py",
   "mimetype": "text/x-python",
   "name": "python",
   "nbconvert_exporter": "python",
   "pygments_lexer": "ipython3",
   "version": "3.13.3"
  }
 },
 "nbformat": 4,
 "nbformat_minor": 5
}
